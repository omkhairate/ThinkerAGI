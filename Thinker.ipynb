{
  "nbformat": 4,
  "nbformat_minor": 0,
  "metadata": {
    "colab": {
      "provenance": [],
      "authorship_tag": "ABX9TyN8LDU8I1nRl7pt8JCA2pnr",
      "include_colab_link": true
    },
    "kernelspec": {
      "name": "python3",
      "display_name": "Python 3"
    },
    "language_info": {
      "name": "python"
    }
  },
  "cells": [
    {
      "cell_type": "markdown",
      "metadata": {
        "id": "view-in-github",
        "colab_type": "text"
      },
      "source": [
        "<a href=\"https://colab.research.google.com/github/omkhairate/ThinkerAGI/blob/main/Thinker.ipynb\" target=\"_parent\"><img src=\"https://colab.research.google.com/assets/colab-badge.svg\" alt=\"Open In Colab\"/></a>"
      ]
    },
    {
      "cell_type": "code",
      "execution_count": 1,
      "metadata": {
        "id": "dqC5lxHJ8NUc"
      },
      "outputs": [],
      "source": [
        "import os\n",
        "from collections import deque\n",
        "from typing import Dict, List, Optional, Any\n",
        "\n",
        "from langchain import LLMChain, OpenAI, PromptTemplate\n",
        "from langchain.embeddings import OpenAIEmbeddings\n",
        "from langchain.llms import BaseLLM\n",
        "from langchain.vectorstores.base import VectorStore\n",
        "from pydantic import BaseModel, Field\n",
        "from langchain.chains.base import Chain\n"
      ]
    },
    {
      "cell_type": "code",
      "source": [
        "from langchain.vectorstores import FAISS\n",
        "from langchain.docstore import InMemoryDocstore"
      ],
      "metadata": {
        "id": "ylI8l_A9s-oA"
      },
      "execution_count": 2,
      "outputs": []
    },
    {
      "cell_type": "code",
      "source": [
        "os.environ['OPENAI_API_KEY'] = \"sk-\""
      ],
      "metadata": {
        "id": "dmj6J64A-Y-P"
      },
      "execution_count": 3,
      "outputs": []
    },
    {
      "cell_type": "code",
      "source": [
        "embeddings_model = OpenAIEmbeddings()\n",
        "\n",
        "import faiss\n",
        "\n",
        "embedding_size = 1536\n",
        "index = faiss.IndexFlatL2(embedding_size)\n",
        "vectorstore = FAISS(embeddings_model.embed_query, index, InMemoryDocstore({}), {})"
      ],
      "metadata": {
        "id": "7k8JII2J46Ly"
      },
      "execution_count": 4,
      "outputs": []
    },
    {
      "cell_type": "code",
      "source": [
        "class thequestionChain(LLMChain):\n",
        "  \"\"\"Chain to make questions on the given objective\"\"\"\n",
        "\n",
        "  @classmethod\n",
        "  def from_llm(cls, llm: BaseLLM, verbose: bool = True) -> LLMChain:\n",
        "\n",
        "    question_template = (\n",
        "        \"You are an question creation AI that uses the result of a doubt agent \"\n",
        "        \"to create new questions in order to reflect on the following objective: {objective},\"\n",
        "        \"The last answered question has the result: {result},\"\n",
        "        \"This result was based on this task description: {task_description},\"\n",
        "        \"These are unanswered questions: {unanswered_questions},\"\n",
        "        \"Based on the result, create new questions to be answered\"\n",
        "        \"by the AI system that do not overlap with questions that are already made.\"\n",
        "        \"Return the questions as an array\"\n",
        "\n",
        "    )\n",
        "    prompt = PromptTemplate(\n",
        "        template=question_template,\n",
        "        input_variables=[\"result\", \"task_description\", \"unanswered_questions\", \"objective\"]\n",
        "    )\n",
        "    return cls(prompt=prompt, llm=llm, verbose=verbose)\n"
      ],
      "metadata": {
        "id": "W1ohPWslphZY"
      },
      "execution_count": 5,
      "outputs": []
    },
    {
      "cell_type": "code",
      "source": [
        "class QuestionPrioritization(LLMChain):\n",
        "  \"\"\"Chain to prioritize the questions to be answered.\"\"\"\n",
        "\n",
        "  @classmethod\n",
        "  def from_llm(cls, llm:BaseLLM, verbose: bool=True) -> LLMChain:\n",
        "    question_prioritization_template = (\n",
        "        \"You are a question prioritization AI tasked with cleaning and formatting of and reprioritizing\"\n",
        "        \"the following questions to be answered: {questions},\"\n",
        "        \"Consider the ultimate objective to reflect on the topic: {objective}.\"\n",
        "        \"Do not remove any questions. Return the result as a numbered list, like:\"\n",
        "        \"#. First question\"\n",
        "        \"#. Second question\"\n",
        "        \"Start the question list with the number {next_question_id}.\"\n",
        "    )\n",
        "    prompt = PromptTemplate(\n",
        "        template=question_prioritization_template,\n",
        "        input_variables=[\"questions\", \"next_question_id\", \"objective\"],\n",
        "    )\n",
        "    return cls(prompt=prompt, llm=llm, verbose=verbose)"
      ],
      "metadata": {
        "id": "jNsdRIrdrV00"
      },
      "execution_count": 6,
      "outputs": []
    },
    {
      "cell_type": "code",
      "source": [
        "class AnswerChain(LLMChain):\n",
        "  \"\"\"Chain to answer questions and find solutions\"\"\"\n",
        "  @classmethod\n",
        "  def from_llm(cls, llm:BaseLLM, verbose: bool = True) -> LLMChain:\n",
        "\n",
        "    answer_template = (\n",
        "        \"You are an AI who answers questions based on reflecting upon the following objective: {objective}.\"\n",
        "        \"Take in to account these previously answered questions: {context}.\"\n",
        "        \"Justify your answer.\"\n",
        "        \"Your question: {question}\"\n",
        "        \"Response:\"\n",
        "    )\n",
        "    prompt = PromptTemplate(\n",
        "        template=answer_template,\n",
        "        input_variables=[\"objective\",\"context\",\"question\"],\n",
        "    )\n",
        "    return cls(prompt=prompt, llm=llm, verbose=verbose)"
      ],
      "metadata": {
        "id": "ZgzOGATTAMi-"
      },
      "execution_count": 7,
      "outputs": []
    },
    {
      "cell_type": "code",
      "source": [
        "class CritiscismChain(LLMChain):\n",
        "  \"\"\"Chain to criticize answers\"\"\"\n",
        "  @classmethod\n",
        "  def from_llm(cls, llm:BaseLLM, verbose: bool = True) -> LLMChain:\n",
        "\n",
        "    criticize_template = (\n",
        "        \"You are an AI who criticizes the answers given by the answer chain based on reflecting upon the following objective: {objective}.\"\n",
        "        \"Take in to account these previously answered questions: {context}.\"\n",
        "        \"Your response must be a criticism of the previously produced answers and must provide a viable solution to the criticism\"\n",
        "        \"Response:\"\n",
        "    )\n",
        "    prompt = PromptTemplate(\n",
        "        template=criticize_template,\n",
        "        input_variables=[\"objective\",\"context\"],\n",
        "    )\n",
        "    return cls(prompt=prompt, llm=llm, verbose=verbose)"
      ],
      "metadata": {
        "id": "WQw3gvTZPBR5"
      },
      "execution_count": 8,
      "outputs": []
    },
    {
      "cell_type": "code",
      "source": [
        "def get_next_question(question_chain: LLMChain, result: Dict, task_description: str, question_list: List[str], objective: str) -> List[Dict]:\n",
        "  \"\"\"Get next question\"\"\"\n",
        "  unanswered_questions = \",\".join(question_list)\n",
        "  response = question_chain.run(result=result, task_description=task_description, unanswered_questions=unanswered_questions, objective=objective)\n",
        "  new_questions = response.split('\\n')\n",
        "  return[{\"question_name\": question_name} for question_name in new_questions if question_name.strip()]\n",
        "  "
      ],
      "metadata": {
        "id": "q9aF4thdXkho"
      },
      "execution_count": 9,
      "outputs": []
    },
    {
      "cell_type": "code",
      "source": [
        "def prioritize_question(question_prioritization_chain:LLMChain, this_question_id: int, question_list: List[Dict], objective:str) -> List[Dict]:\n",
        "\n",
        "  questions = [t[\"question_name\"] for t in question_list]\n",
        "  next_question_id = int(this_question_id) + 1\n",
        "  response = question_prioritization_chain.run(questions=questions, next_question_id=next_question_id, objective=objective)\n",
        "  new_questions = response.split('\\n')\n",
        "  prioritized_question_list = []\n",
        "  for question_string in new_questions:\n",
        "    if not question_string.strip():\n",
        "      continue\n",
        "    question_parts = question_string.strip().split(\".\", 1)\n",
        "    if len(question_parts) == 2:\n",
        "      question_id = question_parts[0].strip()\n",
        "      question_name = question_parts[1].strip()\n",
        "      prioritized_question_list.append({\"question_id\": question_id, \"question_name\": question_name})\n",
        "  return prioritized_question_list "
      ],
      "metadata": {
        "id": "ve_wXdwpZPPF"
      },
      "execution_count": 10,
      "outputs": []
    },
    {
      "cell_type": "code",
      "source": [
        "def _get_top_questions(vectorstore, query: str, k: int) -> List[str]:\n",
        "  \"\"\"Get the top k questions based on the query\"\"\"\n",
        "  results = vectorstore.similarity_search_with_score(query, k=k)\n",
        "  if not results:\n",
        "    return []\n",
        "  sorted_results, _ = zip(*sorted(results, key=lambda x: x[1], reverse=True))\n",
        "  return [str(item.metadata['question']) for item in sorted_results]\n",
        "\n",
        "def answer_question(vectorstore, answer_chain:LLMChain, objective: str, question: str, k: int = 5) -> str:\n",
        "  \"\"\"answer the question\"\"\"\n",
        "  context = _get_top_questions(vectorstore, query=objective, k=k)\n",
        "  return answer_chain.run(objective=objective, context=context, question=question)"
      ],
      "metadata": {
        "id": "BYp_o-eQeHp9"
      },
      "execution_count": 11,
      "outputs": []
    },
    {
      "cell_type": "code",
      "source": [
        "class ThinkerAGI(Chain, BaseModel):\n",
        "\n",
        "  question_list: deque = Field(default_factory=deque)\n",
        "  question_chain: thequestionChain = Field(...)\n",
        "  question_prioritization_chain: QuestionPrioritization = Field(...)\n",
        "  answer_chain: AnswerChain = Field(...)\n",
        "  question_id_counter: int = Field(1)\n",
        "  vectorstore: VectorStore = Field(init=False)\n",
        "  max_iterations: Optional[int]=None\n",
        "\n",
        "  class Config:\n",
        "    arbitrary_types_allowed = True\n",
        "\n",
        "  def add_question(self, question: Dict):\n",
        "    self.question_list.append(question)\n",
        "\n",
        "  def print_question_list(self):\n",
        "    print(\"\\033[95m\\033[1m\" + \"\\n*****QUESTION LIST*****\\n\" +\"\\033[0m\\033[0m\")\n",
        "    for t in self.question_list:\n",
        "      print(str(t[\"question_id\"]) + \": \" + t[\"question_name\"])\n",
        "\n",
        "  def print_next_question(self, question: Dict):\n",
        "    print(\"\\033[95m\\033[1m\" + \"\\n*****NEXT QUESTION*****\\n\" +\"\\033[0m\\033[0m\")\n",
        "    print(str(question[\"question_id\"]) + \": \" + question[\"question_name\"])\n",
        "\n",
        "  def print_question_result(self, result: str):\n",
        "        print(\"\\033[93m\\033[1m\" + \"\\n*****QUESTION ANSWER*****\\n\" + \"\\033[0m\\033[0m\")\n",
        "        print(result)\n",
        "        \n",
        "  @property\n",
        "  def input_keys(self) -> List[str]:\n",
        "      return [\"objective\"]\n",
        "    \n",
        "  @property\n",
        "  def output_keys(self) -> List[str]:\n",
        "      return []\n",
        "\n",
        "  def _call(self, inputs: Dict[str, Any]) -> Dict[str, Any]:\n",
        "      \"\"\"Run the agent.\"\"\"\n",
        "      objective = inputs['objective']\n",
        "      first_question = inputs.get(\"first_question\", \"Questions that one must ask\")\n",
        "      self.add_question({\"question_id\": 1, \"question_name\": first_question})\n",
        "      num_iters = 0\n",
        "      while True:\n",
        "            if self.question_list:\n",
        "                self.print_question_list()\n",
        "\n",
        "                # Step 1: Pull the first task\n",
        "                question = self.question_list.popleft()\n",
        "                self.print_next_question(question)\n",
        "\n",
        "                # Step 2: Execute the task\n",
        "                result = answer_question(\n",
        "                    self.vectorstore, self.answer_chain, objective, question[\"question_name\"]\n",
        "                )\n",
        "                this_question_id = int(question[\"question_id\"])\n",
        "                self.print_question_result(result)\n",
        "\n",
        "                # Step 3: Store the result in Pinecone\n",
        "                result_id = f\"result_{question['question_id']}\"\n",
        "                self.vectorstore.add_texts(\n",
        "                    texts=[result],\n",
        "                    metadatas=[{\"question\": question[\"question_name\"]}],\n",
        "                    ids=[result_id],\n",
        "                )\n",
        "\n",
        "                # Step 4: Create new tasks and reprioritize task list\n",
        "                new_questions = get_next_question(\n",
        "                    self.question_chain, result, question[\"question_name\"], [t[\"question_name\"] for t in self.question_list], objective\n",
        "                )\n",
        "                for new_question in new_questions:\n",
        "                    self.question_id_counter += 1\n",
        "                    new_question.update({\"question_id\": self.question_id_counter})\n",
        "                    self.add_question(new_question)\n",
        "                self.question_list = deque(\n",
        "                    prioritize_question(\n",
        "                        self.question_prioritization_chain, this_question_id, list(self.question_list), objective\n",
        "                    )\n",
        "                )\n",
        "            num_iters += 1\n",
        "            if self.max_iterations is not None and num_iters == self.max_iterations:\n",
        "                print(\"\\033[91m\\033[1m\" + \"\\n*****ENDING*****\\n\" + \"\\033[0m\\033[0m\")\n",
        "                break\n",
        "      return {}\n",
        "\n",
        "  @classmethod\n",
        "  def from_llm(\n",
        "        cls,\n",
        "        llm: BaseLLM,\n",
        "        vectorstore: VectorStore,\n",
        "        verbose: bool = False,\n",
        "        **kwargs\n",
        "    ) -> \"ThinkerAGI\":\n",
        "        \"\"\"Initialize the ThinkerAGI Controller.\"\"\"\n",
        "        question_chain = thequestionChain.from_llm(\n",
        "            llm, verbose=verbose\n",
        "        )\n",
        "        question_prioritization_chain = QuestionPrioritization.from_llm(\n",
        "            llm, verbose=verbose\n",
        "        )\n",
        "        answer_chain = AnswerChain.from_llm(llm, verbose=verbose)\n",
        "        return cls(\n",
        "            question_chain=question_chain,\n",
        "            question_prioritization_chain=question_prioritization_chain,\n",
        "            answer_chain=answer_chain,\n",
        "            vectorstore=vectorstore,\n",
        "            **kwargs\n",
        "      )  "
      ],
      "metadata": {
        "id": "rUzL_jP0fq5x"
      },
      "execution_count": 12,
      "outputs": []
    },
    {
      "cell_type": "code",
      "source": [
        "OBJECTIVE = \"Feminism in India\""
      ],
      "metadata": {
        "id": "VIkTfLcfRCTK"
      },
      "execution_count": 13,
      "outputs": []
    },
    {
      "cell_type": "code",
      "source": [
        "llm = OpenAI(temperature=0)"
      ],
      "metadata": {
        "id": "QWwv0MxwRJ6L"
      },
      "execution_count": 14,
      "outputs": []
    },
    {
      "cell_type": "code",
      "source": [
        "verbose = False\n",
        "\n",
        "max_iterations: Optional[int] = 3\n",
        "thinker_agi = ThinkerAGI.from_llm(\n",
        "    llm=llm,\n",
        "    vectorstore=vectorstore,\n",
        "    verbose=verbose,\n",
        "    max_iterations=max_iterations\n",
        ")"
      ],
      "metadata": {
        "id": "X0kAejwURNjO"
      },
      "execution_count": 15,
      "outputs": []
    },
    {
      "cell_type": "code",
      "source": [
        "thinker_agi({\"objective\": OBJECTIVE})"
      ],
      "metadata": {
        "colab": {
          "base_uri": "https://localhost:8080/"
        },
        "id": "qGuToAq8Rm7S",
        "outputId": "512f866d-2759-47a5-87e5-e248f8dd2683"
      },
      "execution_count": 16,
      "outputs": [
        {
          "output_type": "stream",
          "name": "stdout",
          "text": [
            "\u001b[95m\u001b[1m\n",
            "*****QUESTION LIST*****\n",
            "\u001b[0m\u001b[0m\n",
            "1: Questions that one must ask\n",
            "\u001b[95m\u001b[1m\n",
            "*****NEXT QUESTION*****\n",
            "\u001b[0m\u001b[0m\n",
            "1: Questions that one must ask\n",
            "\u001b[93m\u001b[1m\n",
            "*****QUESTION ANSWER*****\n",
            "\u001b[0m\u001b[0m\n",
            "\n",
            "\n",
            "Questions that one must ask about feminism in India include: What are the main challenges facing women in India? How has the feminist movement evolved in India over time? What are the successes and failures of the feminist movement in India? What are the current laws and policies in India that support gender equality? How can we ensure that women in India have access to equal opportunities and rights?\n",
            "\u001b[95m\u001b[1m\n",
            "*****QUESTION LIST*****\n",
            "\u001b[0m\u001b[0m\n",
            "2: What are the cultural and social norms that impede gender equality in India?\n",
            "3: How can we ensure that women in India have access to education and employment opportunities?\n",
            "4: What are the most effective strategies for promoting gender equality in India?\n",
            "5: How can we ensure that women in India have access to healthcare and other basic services?\n",
            "6: What are the most effective ways to combat gender-based violence in India?\n",
            "7: How can we ensure that women in India have access to legal protection and justice?\n",
            "8: What are the most effective ways to empower women in India?\n",
            "9: How can we ensure that women in India have access to economic resources and financial independence?\n",
            "10: What are the most effective ways to raise awareness about gender equality in India?\n",
            "11: How can we ensure that women in India have access to political representation and decision-making power?\n",
            "\u001b[95m\u001b[1m\n",
            "*****NEXT QUESTION*****\n",
            "\u001b[0m\u001b[0m\n",
            "2: What are the cultural and social norms that impede gender equality in India?\n",
            "\u001b[93m\u001b[1m\n",
            "*****QUESTION ANSWER*****\n",
            "\u001b[0m\u001b[0m\n",
            "\n",
            "\n",
            "Gender inequality in India is deeply rooted in the country's culture and social norms. Some of the cultural and social norms that impede gender equality in India include: the preference for sons over daughters, the practice of dowry, the lack of access to education for girls, the preference for male leadership in the family and society, and the lack of economic opportunities for women. These norms are deeply entrenched in Indian society and have been difficult to change.\n",
            "\u001b[95m\u001b[1m\n",
            "*****QUESTION LIST*****\n",
            "\u001b[0m\u001b[0m\n",
            "3: How can we ensure that women in India have access to education and employment opportunities?\n",
            "4: What are the most effective strategies for promoting gender equality in India?\n",
            "5: How can we ensure that women in India have access to healthcare and other basic services?\n",
            "6: What are the most effective ways to combat gender-based violence in India?\n",
            "7: How can we ensure that women in India have access to legal protection and justice?\n",
            "8: What are the most effective ways to empower women in India?\n",
            "9: How can we ensure that women in India have access to economic resources and financial independence?\n",
            "10: What are the most effective ways to raise awareness about gender equality in India?\n",
            "11: How can we ensure that women in India have access to political representation and decision-making power?\n",
            "12: What are the most effective ways to challenge traditional gender roles in India?\n",
            "13: How can we ensure that women in India have access to equal pay and job security?\n",
            "14: What are the most effective ways to promote gender equality in the workplace in India?\n",
            "15: How can we ensure that women in India have access to safe and secure housing?\n",
            "16: What are the most effective ways to combat gender-\n",
            "\u001b[95m\u001b[1m\n",
            "*****NEXT QUESTION*****\n",
            "\u001b[0m\u001b[0m\n",
            "3: How can we ensure that women in India have access to education and employment opportunities?\n",
            "\u001b[93m\u001b[1m\n",
            "*****QUESTION ANSWER*****\n",
            "\u001b[0m\u001b[0m\n",
            "\n",
            "\n",
            "In order to ensure that women in India have access to education and employment opportunities, we must first address the cultural and social norms that impede gender equality in India. This includes challenging traditional gender roles, dismantling patriarchal structures, and creating an environment of equal opportunity for all genders. Additionally, we must ensure that women have access to resources such as financial aid, mentorship, and support networks. We must also work to eliminate gender-based discrimination in the workplace and ensure that women are given equal pay for equal work. Finally, we must work to create a society that values and respects the contributions of women in all aspects of life.\n",
            "\u001b[91m\u001b[1m\n",
            "*****ENDING*****\n",
            "\u001b[0m\u001b[0m\n"
          ]
        },
        {
          "output_type": "execute_result",
          "data": {
            "text/plain": [
              "{'objective': 'Feminism in India'}"
            ]
          },
          "metadata": {},
          "execution_count": 16
        }
      ]
    }
  ]
}
